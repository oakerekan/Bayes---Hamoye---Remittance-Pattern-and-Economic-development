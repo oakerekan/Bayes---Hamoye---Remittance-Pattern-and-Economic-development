{
  "cells": [
    {
      "cell_type": "markdown",
      "metadata": {
        "id": "r5AXosSvuDAl"
      },
      "source": [
        "### Import necessary libraries\n"
      ]
    },
    {
      "cell_type": "code",
      "execution_count": 1,
      "metadata": {
        "id": "9262O6P1uCDn"
      },
      "outputs": [],
      "source": [
        "import numpy as np\n",
        "import pandas as pd\n",
        "import seaborn as sns\n",
        "import matplotlib.pyplot as plt\n",
        "import plotly.express as px\n",
        "from sklearn.preprocessing import StandardScaler\n",
        "from sklearn.model_selection import train_test_split\n",
        "from sklearn.model_selection import GridSearchCV\n",
        "from sklearn.linear_model import LinearRegression, Lasso, Ridge\n",
        "from sklearn.ensemble import RandomForestRegressor\n",
        "from xgboost import XGBRegressor\n",
        "import xgboost as xgb\n",
        "from sklearn.svm import SVR\n",
        "from sklearn.metrics import mean_absolute_error, mean_squared_error\n",
        "\n",
        "import warnings\n",
        "# filter warnings\n",
        "warnings.filterwarnings('ignore')"
      ]
    },
    {
      "cell_type": "markdown",
      "metadata": {
        "id": "-xgN4yS_vTMx"
      },
      "source": [
        "#### Prepare datasets"
      ]
    },
    {
      "cell_type": "code",
      "execution_count": 2,
      "metadata": {
        "colab": {
          "base_uri": "https://localhost:8080/",
          "height": 435
        },
        "id": "DMcFfrH_wy1A",
        "outputId": "5841d935-d7bb-4e86-bef0-bd1822273edf"
      },
      "outputs": [
        {
          "output_type": "stream",
          "name": "stdout",
          "text": [
            "(171, 34)\n"
          ]
        },
        {
          "output_type": "execute_result",
          "data": {
            "text/plain": [
              "                                               1990        1991   1992  \\\n",
              "Migrant remittance inflows (US$ million)                                 \n",
              "Afghanistan                                 0.00000    0.000000    0.0   \n",
              "Albania                                     0.00000    0.000000  151.8   \n",
              "Algeria                                   352.44176  232.990263    0.0   \n",
              "Angola                                      0.00000    0.000000    0.0   \n",
              "Antigua and Barbuda                         9.40000    0.000000    0.0   \n",
              "\n",
              "                                                1993        1994   1995  \\\n",
              "Migrant remittance inflows (US$ million)                                  \n",
              "Afghanistan                                 0.000000    0.000000    0.0   \n",
              "Albania                                   332.000000  307.100000  427.3   \n",
              "Algeria                                     0.000000    0.000000    0.0   \n",
              "Angola                                      0.000000    0.000000    0.0   \n",
              "Antigua and Barbuda                         7.925926    8.614815    0.0   \n",
              "\n",
              "                                                1996        1997        1998  \\\n",
              "Migrant remittance inflows (US$ million)                                       \n",
              "Afghanistan                                 0.000000    0.000000    0.000000   \n",
              "Albania                                   550.900000  300.300000  504.140000   \n",
              "Algeria                                     0.000000    0.000000    0.000000   \n",
              "Angola                                      5.142000    0.000000    0.000000   \n",
              "Antigua and Barbuda                         8.940741    9.537037   18.755556   \n",
              "\n",
              "                                                1999  ...         2014  \\\n",
              "Migrant remittance inflows (US$ million)              ...                \n",
              "Afghanistan                                 0.000000  ...   253.367822   \n",
              "Albania                                   407.200000  ...  1421.007454   \n",
              "Algeria                                     0.000000  ...  2452.442617   \n",
              "Angola                                      0.000000  ...    30.971119   \n",
              "Antigua and Barbuda                        18.394444  ...    32.100000   \n",
              "\n",
              "                                                 2015         2016  \\\n",
              "Migrant remittance inflows (US$ million)                             \n",
              "Afghanistan                                348.624717   627.710802   \n",
              "Albania                                   1290.863508  1306.009167   \n",
              "Algeria                                   1997.393458  1989.023597   \n",
              "Angola                                      11.114712     3.988048   \n",
              "Antigua and Barbuda                         31.244412    26.705676   \n",
              "\n",
              "                                                 2017         2018  \\\n",
              "Migrant remittance inflows (US$ million)                             \n",
              "Afghanistan                                822.731630   803.546454   \n",
              "Albania                                   1311.822432  1458.210056   \n",
              "Algeria                                   1791.887073  1984.998399   \n",
              "Angola                                       1.418196     1.579247   \n",
              "Antigua and Barbuda                         24.020044    32.768265   \n",
              "\n",
              "                                                 2019         2020  \\\n",
              "Migrant remittance inflows (US$ million)                             \n",
              "Afghanistan                                828.571904   788.917115   \n",
              "Albania                                   1472.812242  1465.987212   \n",
              "Algeria                                   1785.838683  1699.608935   \n",
              "Angola                                       3.445473     8.053051   \n",
              "Antigua and Barbuda                         36.955426    36.331448   \n",
              "\n",
              "                                                 2021         2022  %GDP_2022  \n",
              "Migrant remittance inflows (US$ million)                                       \n",
              "Afghanistan                                300.000000   350.000000   2.058824  \n",
              "Albania                                   1718.320554  1800.000000   9.859772  \n",
              "Algeria                                   1759.095247  1829.459057   0.977510  \n",
              "Angola                                      12.631149    16.420494   0.013158  \n",
              "Antigua and Barbuda                         50.142028    34.590023   2.044328  \n",
              "\n",
              "[5 rows x 34 columns]"
            ],
            "text/html": [
              "\n",
              "  <div id=\"df-af41e94d-d15e-4638-bd17-a7695188f4ee\">\n",
              "    <div class=\"colab-df-container\">\n",
              "      <div>\n",
              "<style scoped>\n",
              "    .dataframe tbody tr th:only-of-type {\n",
              "        vertical-align: middle;\n",
              "    }\n",
              "\n",
              "    .dataframe tbody tr th {\n",
              "        vertical-align: top;\n",
              "    }\n",
              "\n",
              "    .dataframe thead th {\n",
              "        text-align: right;\n",
              "    }\n",
              "</style>\n",
              "<table border=\"1\" class=\"dataframe\">\n",
              "  <thead>\n",
              "    <tr style=\"text-align: right;\">\n",
              "      <th></th>\n",
              "      <th>1990</th>\n",
              "      <th>1991</th>\n",
              "      <th>1992</th>\n",
              "      <th>1993</th>\n",
              "      <th>1994</th>\n",
              "      <th>1995</th>\n",
              "      <th>1996</th>\n",
              "      <th>1997</th>\n",
              "      <th>1998</th>\n",
              "      <th>1999</th>\n",
              "      <th>...</th>\n",
              "      <th>2014</th>\n",
              "      <th>2015</th>\n",
              "      <th>2016</th>\n",
              "      <th>2017</th>\n",
              "      <th>2018</th>\n",
              "      <th>2019</th>\n",
              "      <th>2020</th>\n",
              "      <th>2021</th>\n",
              "      <th>2022</th>\n",
              "      <th>%GDP_2022</th>\n",
              "    </tr>\n",
              "    <tr>\n",
              "      <th>Migrant remittance inflows (US$ million)</th>\n",
              "      <th></th>\n",
              "      <th></th>\n",
              "      <th></th>\n",
              "      <th></th>\n",
              "      <th></th>\n",
              "      <th></th>\n",
              "      <th></th>\n",
              "      <th></th>\n",
              "      <th></th>\n",
              "      <th></th>\n",
              "      <th></th>\n",
              "      <th></th>\n",
              "      <th></th>\n",
              "      <th></th>\n",
              "      <th></th>\n",
              "      <th></th>\n",
              "      <th></th>\n",
              "      <th></th>\n",
              "      <th></th>\n",
              "      <th></th>\n",
              "      <th></th>\n",
              "    </tr>\n",
              "  </thead>\n",
              "  <tbody>\n",
              "    <tr>\n",
              "      <th>Afghanistan</th>\n",
              "      <td>0.00000</td>\n",
              "      <td>0.000000</td>\n",
              "      <td>0.0</td>\n",
              "      <td>0.000000</td>\n",
              "      <td>0.000000</td>\n",
              "      <td>0.0</td>\n",
              "      <td>0.000000</td>\n",
              "      <td>0.000000</td>\n",
              "      <td>0.000000</td>\n",
              "      <td>0.000000</td>\n",
              "      <td>...</td>\n",
              "      <td>253.367822</td>\n",
              "      <td>348.624717</td>\n",
              "      <td>627.710802</td>\n",
              "      <td>822.731630</td>\n",
              "      <td>803.546454</td>\n",
              "      <td>828.571904</td>\n",
              "      <td>788.917115</td>\n",
              "      <td>300.000000</td>\n",
              "      <td>350.000000</td>\n",
              "      <td>2.058824</td>\n",
              "    </tr>\n",
              "    <tr>\n",
              "      <th>Albania</th>\n",
              "      <td>0.00000</td>\n",
              "      <td>0.000000</td>\n",
              "      <td>151.8</td>\n",
              "      <td>332.000000</td>\n",
              "      <td>307.100000</td>\n",
              "      <td>427.3</td>\n",
              "      <td>550.900000</td>\n",
              "      <td>300.300000</td>\n",
              "      <td>504.140000</td>\n",
              "      <td>407.200000</td>\n",
              "      <td>...</td>\n",
              "      <td>1421.007454</td>\n",
              "      <td>1290.863508</td>\n",
              "      <td>1306.009167</td>\n",
              "      <td>1311.822432</td>\n",
              "      <td>1458.210056</td>\n",
              "      <td>1472.812242</td>\n",
              "      <td>1465.987212</td>\n",
              "      <td>1718.320554</td>\n",
              "      <td>1800.000000</td>\n",
              "      <td>9.859772</td>\n",
              "    </tr>\n",
              "    <tr>\n",
              "      <th>Algeria</th>\n",
              "      <td>352.44176</td>\n",
              "      <td>232.990263</td>\n",
              "      <td>0.0</td>\n",
              "      <td>0.000000</td>\n",
              "      <td>0.000000</td>\n",
              "      <td>0.0</td>\n",
              "      <td>0.000000</td>\n",
              "      <td>0.000000</td>\n",
              "      <td>0.000000</td>\n",
              "      <td>0.000000</td>\n",
              "      <td>...</td>\n",
              "      <td>2452.442617</td>\n",
              "      <td>1997.393458</td>\n",
              "      <td>1989.023597</td>\n",
              "      <td>1791.887073</td>\n",
              "      <td>1984.998399</td>\n",
              "      <td>1785.838683</td>\n",
              "      <td>1699.608935</td>\n",
              "      <td>1759.095247</td>\n",
              "      <td>1829.459057</td>\n",
              "      <td>0.977510</td>\n",
              "    </tr>\n",
              "    <tr>\n",
              "      <th>Angola</th>\n",
              "      <td>0.00000</td>\n",
              "      <td>0.000000</td>\n",
              "      <td>0.0</td>\n",
              "      <td>0.000000</td>\n",
              "      <td>0.000000</td>\n",
              "      <td>0.0</td>\n",
              "      <td>5.142000</td>\n",
              "      <td>0.000000</td>\n",
              "      <td>0.000000</td>\n",
              "      <td>0.000000</td>\n",
              "      <td>...</td>\n",
              "      <td>30.971119</td>\n",
              "      <td>11.114712</td>\n",
              "      <td>3.988048</td>\n",
              "      <td>1.418196</td>\n",
              "      <td>1.579247</td>\n",
              "      <td>3.445473</td>\n",
              "      <td>8.053051</td>\n",
              "      <td>12.631149</td>\n",
              "      <td>16.420494</td>\n",
              "      <td>0.013158</td>\n",
              "    </tr>\n",
              "    <tr>\n",
              "      <th>Antigua and Barbuda</th>\n",
              "      <td>9.40000</td>\n",
              "      <td>0.000000</td>\n",
              "      <td>0.0</td>\n",
              "      <td>7.925926</td>\n",
              "      <td>8.614815</td>\n",
              "      <td>0.0</td>\n",
              "      <td>8.940741</td>\n",
              "      <td>9.537037</td>\n",
              "      <td>18.755556</td>\n",
              "      <td>18.394444</td>\n",
              "      <td>...</td>\n",
              "      <td>32.100000</td>\n",
              "      <td>31.244412</td>\n",
              "      <td>26.705676</td>\n",
              "      <td>24.020044</td>\n",
              "      <td>32.768265</td>\n",
              "      <td>36.955426</td>\n",
              "      <td>36.331448</td>\n",
              "      <td>50.142028</td>\n",
              "      <td>34.590023</td>\n",
              "      <td>2.044328</td>\n",
              "    </tr>\n",
              "  </tbody>\n",
              "</table>\n",
              "<p>5 rows × 34 columns</p>\n",
              "</div>\n",
              "      <button class=\"colab-df-convert\" onclick=\"convertToInteractive('df-af41e94d-d15e-4638-bd17-a7695188f4ee')\"\n",
              "              title=\"Convert this dataframe to an interactive table.\"\n",
              "              style=\"display:none;\">\n",
              "        \n",
              "  <svg xmlns=\"http://www.w3.org/2000/svg\" height=\"24px\"viewBox=\"0 0 24 24\"\n",
              "       width=\"24px\">\n",
              "    <path d=\"M0 0h24v24H0V0z\" fill=\"none\"/>\n",
              "    <path d=\"M18.56 5.44l.94 2.06.94-2.06 2.06-.94-2.06-.94-.94-2.06-.94 2.06-2.06.94zm-11 1L8.5 8.5l.94-2.06 2.06-.94-2.06-.94L8.5 2.5l-.94 2.06-2.06.94zm10 10l.94 2.06.94-2.06 2.06-.94-2.06-.94-.94-2.06-.94 2.06-2.06.94z\"/><path d=\"M17.41 7.96l-1.37-1.37c-.4-.4-.92-.59-1.43-.59-.52 0-1.04.2-1.43.59L10.3 9.45l-7.72 7.72c-.78.78-.78 2.05 0 2.83L4 21.41c.39.39.9.59 1.41.59.51 0 1.02-.2 1.41-.59l7.78-7.78 2.81-2.81c.8-.78.8-2.07 0-2.86zM5.41 20L4 18.59l7.72-7.72 1.47 1.35L5.41 20z\"/>\n",
              "  </svg>\n",
              "      </button>\n",
              "      \n",
              "  <style>\n",
              "    .colab-df-container {\n",
              "      display:flex;\n",
              "      flex-wrap:wrap;\n",
              "      gap: 12px;\n",
              "    }\n",
              "\n",
              "    .colab-df-convert {\n",
              "      background-color: #E8F0FE;\n",
              "      border: none;\n",
              "      border-radius: 50%;\n",
              "      cursor: pointer;\n",
              "      display: none;\n",
              "      fill: #1967D2;\n",
              "      height: 32px;\n",
              "      padding: 0 0 0 0;\n",
              "      width: 32px;\n",
              "    }\n",
              "\n",
              "    .colab-df-convert:hover {\n",
              "      background-color: #E2EBFA;\n",
              "      box-shadow: 0px 1px 2px rgba(60, 64, 67, 0.3), 0px 1px 3px 1px rgba(60, 64, 67, 0.15);\n",
              "      fill: #174EA6;\n",
              "    }\n",
              "\n",
              "    [theme=dark] .colab-df-convert {\n",
              "      background-color: #3B4455;\n",
              "      fill: #D2E3FC;\n",
              "    }\n",
              "\n",
              "    [theme=dark] .colab-df-convert:hover {\n",
              "      background-color: #434B5C;\n",
              "      box-shadow: 0px 1px 3px 1px rgba(0, 0, 0, 0.15);\n",
              "      filter: drop-shadow(0px 1px 2px rgba(0, 0, 0, 0.3));\n",
              "      fill: #FFFFFF;\n",
              "    }\n",
              "  </style>\n",
              "\n",
              "      <script>\n",
              "        const buttonEl =\n",
              "          document.querySelector('#df-af41e94d-d15e-4638-bd17-a7695188f4ee button.colab-df-convert');\n",
              "        buttonEl.style.display =\n",
              "          google.colab.kernel.accessAllowed ? 'block' : 'none';\n",
              "\n",
              "        async function convertToInteractive(key) {\n",
              "          const element = document.querySelector('#df-af41e94d-d15e-4638-bd17-a7695188f4ee');\n",
              "          const dataTable =\n",
              "            await google.colab.kernel.invokeFunction('convertToInteractive',\n",
              "                                                     [key], {});\n",
              "          if (!dataTable) return;\n",
              "\n",
              "          const docLinkHtml = 'Like what you see? Visit the ' +\n",
              "            '<a target=\"_blank\" href=https://colab.research.google.com/notebooks/data_table.ipynb>data table notebook</a>'\n",
              "            + ' to learn more about interactive tables.';\n",
              "          element.innerHTML = '';\n",
              "          dataTable['output_type'] = 'display_data';\n",
              "          await google.colab.output.renderOutput(dataTable, element);\n",
              "          const docLink = document.createElement('div');\n",
              "          docLink.innerHTML = docLinkHtml;\n",
              "          element.appendChild(docLink);\n",
              "        }\n",
              "      </script>\n",
              "    </div>\n",
              "  </div>\n",
              "  "
            ]
          },
          "metadata": {},
          "execution_count": 2
        }
      ],
      "source": [
        "# Load the inward remittance flows dataset\n",
        "df = pd.read_csv('/content/remittance_inflows.csv', index_col = 0)\n",
        "\n",
        "print(df.shape)\n",
        "# Display the first few rows of the dataset\n",
        "df.head()"
      ]
    },
    {
      "cell_type": "code",
      "execution_count": 3,
      "metadata": {
        "id": "x5LbUm-t4SwR"
      },
      "outputs": [],
      "source": [
        "inflow = df.copy()"
      ]
    },
    {
      "cell_type": "markdown",
      "metadata": {
        "id": "TciVJbPwZpJ_"
      },
      "source": [
        "##Modelling"
      ]
    },
    {
      "cell_type": "code",
      "execution_count": 4,
      "metadata": {
        "colab": {
          "base_uri": "https://localhost:8080/"
        },
        "id": "L8l2JNqZrRWu",
        "outputId": "4f7da120-4701-4419-ff14-c513db098b90"
      },
      "outputs": [
        {
          "output_type": "stream",
          "name": "stdout",
          "text": [
            "Train shape: (136, 33)\n",
            "Test shape: (35, 33)\n"
          ]
        }
      ],
      "source": [
        "# Split the data into input and target variables\n",
        "X = inflow.drop(columns=['%GDP_2022'], axis=1) # Features\n",
        "y = inflow['%GDP_2022'] # Target variable\n",
        "\n",
        "# Split the data into training and testing sets\n",
        "X_train, X_test, y_train, y_test = train_test_split(X, y, test_size=0.2, random_state=42)\n",
        "\n",
        "# Normalize the input data using StandardScaler\n",
        "scaler = StandardScaler()\n",
        "X_train = scaler.fit_transform(X_train)\n",
        "X_test = scaler.transform(X_test)\n",
        "\n",
        "print('Train shape:', X_train.shape) \n",
        "print('Test shape:', X_test.shape)"
      ]
    },
    {
      "cell_type": "markdown",
      "metadata": {
        "id": "q2fx-4HzWG_3"
      },
      "source": [
        "## Define functions for the models and train on the normalized data"
      ]
    },
    {
      "cell_type": "markdown",
      "metadata": {
        "id": "Vm1lZFeLla5P"
      },
      "source": [
        "### Linear Regression Model"
      ]
    },
    {
      "cell_type": "code",
      "execution_count": 5,
      "metadata": {
        "id": "u3jF-DQcWMbw"
      },
      "outputs": [],
      "source": [
        "# Linear regression model\n",
        "def linear_regression_model(X_trian, y_train, X_test, y_test):\n",
        "    # Train a linear regression model on the normalized data\n",
        "    lr = LinearRegression()\n",
        "    lr.fit(X_train, y_train)\n",
        "\n",
        "    # Evaluate the model performance on the testing set\n",
        "    y_pred = lr.predict(X_test)\n",
        "    mae = mean_absolute_error(y_test, y_pred)\n",
        "    mse = mean_squared_error(y_test, y_pred)\n",
        "    rmse = np.sqrt(mse)\n",
        "   \n",
        "    return mae, mse, rmse"
      ]
    },
    {
      "cell_type": "markdown",
      "metadata": {
        "id": "udtqsKJ80Vu0"
      },
      "source": [
        "### Random Forest Model"
      ]
    },
    {
      "cell_type": "code",
      "execution_count": 6,
      "metadata": {
        "id": "n_rshJjhYNdL"
      },
      "outputs": [],
      "source": [
        "# Random Forest model\n",
        "def random_forest_model(X_train, y_train, X_test, y_test):\n",
        "    \n",
        "    rf = RandomForestRegressor(n_estimators=100, random_state=42)\n",
        "    rf.fit(X_train, y_train)\n",
        "    y_pred = rf.predict(X_test)\n",
        "    mae = mean_absolute_error(y_test, y_pred)\n",
        "    mse = mean_squared_error(y_test, y_pred)\n",
        "    rmse = np.sqrt(mse)\n",
        "    \n",
        "    return mae, mse, rmse"
      ]
    },
    {
      "cell_type": "markdown",
      "metadata": {
        "id": "AQHU3uZA0a1f"
      },
      "source": [
        "### XGBoost Model"
      ]
    },
    {
      "cell_type": "code",
      "execution_count": 7,
      "metadata": {
        "id": "_AGOpXFCYkZN"
      },
      "outputs": [],
      "source": [
        "def xgboost_model(X_train, y_train, X_test, y_test):\n",
        "    # Train an XGBoost model on the normalized data\n",
        "    dtrain = xgb.DMatrix(X_train, label=y_train)\n",
        "    dtest = xgb.DMatrix(X_test, label=y_test)\n",
        "    params = {'objective': 'reg:squarederror', 'eval_metric': 'rmse'}\n",
        "    xgb_model = xgb.train(params, dtrain, num_boost_round=100)\n",
        "\n",
        "    # Evaluate the model performance on the testing set\n",
        "    y_pred = xgb_model.predict(dtest)\n",
        "    mae = mean_absolute_error(y_test, y_pred)\n",
        "    mse = mean_squared_error(y_test, y_pred)\n",
        "    rmse = np.sqrt(mse)\n",
        "\n",
        "    return mae, mse, rmse"
      ]
    },
    {
      "cell_type": "markdown",
      "metadata": {
        "id": "RSmr5iDd0ifj"
      },
      "source": [
        "### Ridge Regression Model"
      ]
    },
    {
      "cell_type": "code",
      "execution_count": 8,
      "metadata": {
        "id": "WkWWY0ave80G"
      },
      "outputs": [],
      "source": [
        "# Ridge regression\n",
        "def ridge_regression(X_train, y_train, X_test, y_test):\n",
        "    # Train a ridge regression model on the normalized data\n",
        "    ridge = Ridge(alpha=1.0)\n",
        "    ridge.fit(X_train, y_train)\n",
        "\n",
        "    # Evaluate the model performance on the testing set\n",
        "    y_pred = ridge.predict(X_test)\n",
        "    mae = mean_absolute_error(y_test, y_pred)\n",
        "    mse = mean_squared_error(y_test, y_pred)\n",
        "    rmse = np.sqrt(mse)\n",
        "\n",
        "    return mae, mse, rmse"
      ]
    },
    {
      "cell_type": "markdown",
      "metadata": {
        "id": "p_NoaFSb0mE-"
      },
      "source": [
        "### Lasso Regression Model"
      ]
    },
    {
      "cell_type": "code",
      "execution_count": 9,
      "metadata": {
        "id": "S4ly089-e29J"
      },
      "outputs": [],
      "source": [
        "# Lasso Regression\n",
        "def lasso_regression(X_train, y_train, X_test, y_test):\n",
        "    # Train a ridge regression model on the normalized data\n",
        "    lasso = Lasso(alpha=1.0)\n",
        "    lasso.fit(X_train, y_train)\n",
        "\n",
        "    # Evaluate the model performance on the testing set\n",
        "    y_pred = lasso.predict(X_test)\n",
        "    mae = mean_absolute_error(y_test, y_pred)\n",
        "    mse = mean_squared_error(y_test, y_pred)\n",
        "    rmse = np.sqrt(mse)\n",
        "\n",
        "    return mae, mse, rmse"
      ]
    },
    {
      "cell_type": "markdown",
      "metadata": {
        "id": "VzKTy35e0pxg"
      },
      "source": [
        "### SVR Model"
      ]
    },
    {
      "cell_type": "code",
      "execution_count": 10,
      "metadata": {
        "id": "Q7m7D_76ahtn"
      },
      "outputs": [],
      "source": [
        "# SVR model function\n",
        "def svr_model(X_train, y_train, X_test, y_test):\n",
        "    # Train an SVR model on the normalized data\n",
        "    svr = SVR(kernel='rbf', C=1.0, gamma='scale')\n",
        "    svr.fit(X_train, y_train)\n",
        "\n",
        "    # Evaluate the model performance on the testing set\n",
        "    y_pred = svr.predict(X_test)\n",
        "    mae = mean_absolute_error(y_test, y_pred)\n",
        "    mse = mean_squared_error(y_test, y_pred)\n",
        "    rmse = np.sqrt(mse)\n",
        "\n",
        "    return mae, mse, rmse"
      ]
    },
    {
      "cell_type": "markdown",
      "source": [
        "### SGD model"
      ],
      "metadata": {
        "id": "_iBPnWJxP4G4"
      }
    },
    {
      "cell_type": "code",
      "execution_count": 11,
      "metadata": {
        "id": "lFLJmEbqW7Xq"
      },
      "outputs": [],
      "source": [
        "from sklearn.linear_model import SGDRegressor\n",
        "def sgd_model(X_train, y_train, X_test, y_test):\n",
        "    # Train an SVR model on the normalized data\n",
        "    sgd_model = SGDRegressor(max_iter=1000, tol=1e-3)\n",
        "    sgd_model.fit(X_train, y_train)\n",
        "\n",
        "    # Evaluate the model performance on the testing set\n",
        "    y_pred = sgd_model.predict(X_test)\n",
        "    mae = mean_absolute_error(y_test, y_pred)\n",
        "    mse = mean_squared_error(y_test, y_pred)\n",
        "    rmse = np.sqrt(mse)\n",
        "\n",
        "    return mae, mse, rmse"
      ]
    },
    {
      "cell_type": "markdown",
      "metadata": {
        "id": "e_cLnECkwhKT"
      },
      "source": [
        "## Evaluating the performance metrics of the models"
      ]
    },
    {
      "cell_type": "code",
      "execution_count": 12,
      "metadata": {
        "id": "9750q9Tlw2xZ"
      },
      "outputs": [],
      "source": [
        "# Call the linear regression model function\n",
        "lr_mae, lr_mse, lr_rmse = linear_regression_model(X_train, y_train, X_test, y_test)\n",
        "\n",
        "# Call the random forest model function\n",
        "rf_mae, rf_mse, rf_rmse = random_forest_model(X_train, y_train, X_test, y_test)\n",
        "\n",
        "# Call the XGBoost model function\n",
        "xgb_mae, xgb_mse, xgb_rmse = xgboost_model(X_train, y_train, X_test, y_test)\n",
        "\n",
        "# Call the Ridge model function\n",
        "ridge_mae, ridge_mse, ridge_rmse = ridge_regression(X_train, y_train, X_test, y_test)\n",
        "                                             \n",
        "# Call the Lasso model function\n",
        "lasso_mae, lasso_mse, lasso_rmse = lasso_regression(X_train, y_train, X_test, y_test)\n",
        "\n",
        "# Call the SVR model function\n",
        "svr_mae, svr_mse, svr_rmse = svr_model(X_train, y_train, X_test, y_test)\n",
        "\n",
        "# Call the SGD model function\n",
        "sgd_mae, sgd_mse, sgd_rmse = sgd_model(X_train, y_train, X_test, y_test)"
      ]
    },
    {
      "cell_type": "code",
      "execution_count": 13,
      "metadata": {
        "colab": {
          "base_uri": "https://localhost:8080/",
          "height": 269
        },
        "id": "BNCjF9J40aLt",
        "outputId": "f7820eb7-c72c-46c2-d87d-c0ac965be3da"
      },
      "outputs": [
        {
          "output_type": "execute_result",
          "data": {
            "text/plain": [
              "                        MAE        MSE      RMSE\n",
              "Linear Regression  5.892203  61.148973  7.819781\n",
              "Random Forest      4.818888  48.982562  6.998754\n",
              "XGBoost            5.306699  60.191991  7.758350\n",
              "Ridge              5.253557  45.058726  6.712580\n",
              "Lasso              5.507718  47.603492  6.899528\n",
              "SVR                3.817812  51.180846  7.154079\n",
              "SGD                5.302481  44.908734  6.701398"
            ],
            "text/html": [
              "\n",
              "  <div id=\"df-6e3d04b8-ae06-422e-ae37-a8ac73d29420\">\n",
              "    <div class=\"colab-df-container\">\n",
              "      <div>\n",
              "<style scoped>\n",
              "    .dataframe tbody tr th:only-of-type {\n",
              "        vertical-align: middle;\n",
              "    }\n",
              "\n",
              "    .dataframe tbody tr th {\n",
              "        vertical-align: top;\n",
              "    }\n",
              "\n",
              "    .dataframe thead th {\n",
              "        text-align: right;\n",
              "    }\n",
              "</style>\n",
              "<table border=\"1\" class=\"dataframe\">\n",
              "  <thead>\n",
              "    <tr style=\"text-align: right;\">\n",
              "      <th></th>\n",
              "      <th>MAE</th>\n",
              "      <th>MSE</th>\n",
              "      <th>RMSE</th>\n",
              "    </tr>\n",
              "  </thead>\n",
              "  <tbody>\n",
              "    <tr>\n",
              "      <th>Linear Regression</th>\n",
              "      <td>5.892203</td>\n",
              "      <td>61.148973</td>\n",
              "      <td>7.819781</td>\n",
              "    </tr>\n",
              "    <tr>\n",
              "      <th>Random Forest</th>\n",
              "      <td>4.818888</td>\n",
              "      <td>48.982562</td>\n",
              "      <td>6.998754</td>\n",
              "    </tr>\n",
              "    <tr>\n",
              "      <th>XGBoost</th>\n",
              "      <td>5.306699</td>\n",
              "      <td>60.191991</td>\n",
              "      <td>7.758350</td>\n",
              "    </tr>\n",
              "    <tr>\n",
              "      <th>Ridge</th>\n",
              "      <td>5.253557</td>\n",
              "      <td>45.058726</td>\n",
              "      <td>6.712580</td>\n",
              "    </tr>\n",
              "    <tr>\n",
              "      <th>Lasso</th>\n",
              "      <td>5.507718</td>\n",
              "      <td>47.603492</td>\n",
              "      <td>6.899528</td>\n",
              "    </tr>\n",
              "    <tr>\n",
              "      <th>SVR</th>\n",
              "      <td>3.817812</td>\n",
              "      <td>51.180846</td>\n",
              "      <td>7.154079</td>\n",
              "    </tr>\n",
              "    <tr>\n",
              "      <th>SGD</th>\n",
              "      <td>5.302481</td>\n",
              "      <td>44.908734</td>\n",
              "      <td>6.701398</td>\n",
              "    </tr>\n",
              "  </tbody>\n",
              "</table>\n",
              "</div>\n",
              "      <button class=\"colab-df-convert\" onclick=\"convertToInteractive('df-6e3d04b8-ae06-422e-ae37-a8ac73d29420')\"\n",
              "              title=\"Convert this dataframe to an interactive table.\"\n",
              "              style=\"display:none;\">\n",
              "        \n",
              "  <svg xmlns=\"http://www.w3.org/2000/svg\" height=\"24px\"viewBox=\"0 0 24 24\"\n",
              "       width=\"24px\">\n",
              "    <path d=\"M0 0h24v24H0V0z\" fill=\"none\"/>\n",
              "    <path d=\"M18.56 5.44l.94 2.06.94-2.06 2.06-.94-2.06-.94-.94-2.06-.94 2.06-2.06.94zm-11 1L8.5 8.5l.94-2.06 2.06-.94-2.06-.94L8.5 2.5l-.94 2.06-2.06.94zm10 10l.94 2.06.94-2.06 2.06-.94-2.06-.94-.94-2.06-.94 2.06-2.06.94z\"/><path d=\"M17.41 7.96l-1.37-1.37c-.4-.4-.92-.59-1.43-.59-.52 0-1.04.2-1.43.59L10.3 9.45l-7.72 7.72c-.78.78-.78 2.05 0 2.83L4 21.41c.39.39.9.59 1.41.59.51 0 1.02-.2 1.41-.59l7.78-7.78 2.81-2.81c.8-.78.8-2.07 0-2.86zM5.41 20L4 18.59l7.72-7.72 1.47 1.35L5.41 20z\"/>\n",
              "  </svg>\n",
              "      </button>\n",
              "      \n",
              "  <style>\n",
              "    .colab-df-container {\n",
              "      display:flex;\n",
              "      flex-wrap:wrap;\n",
              "      gap: 12px;\n",
              "    }\n",
              "\n",
              "    .colab-df-convert {\n",
              "      background-color: #E8F0FE;\n",
              "      border: none;\n",
              "      border-radius: 50%;\n",
              "      cursor: pointer;\n",
              "      display: none;\n",
              "      fill: #1967D2;\n",
              "      height: 32px;\n",
              "      padding: 0 0 0 0;\n",
              "      width: 32px;\n",
              "    }\n",
              "\n",
              "    .colab-df-convert:hover {\n",
              "      background-color: #E2EBFA;\n",
              "      box-shadow: 0px 1px 2px rgba(60, 64, 67, 0.3), 0px 1px 3px 1px rgba(60, 64, 67, 0.15);\n",
              "      fill: #174EA6;\n",
              "    }\n",
              "\n",
              "    [theme=dark] .colab-df-convert {\n",
              "      background-color: #3B4455;\n",
              "      fill: #D2E3FC;\n",
              "    }\n",
              "\n",
              "    [theme=dark] .colab-df-convert:hover {\n",
              "      background-color: #434B5C;\n",
              "      box-shadow: 0px 1px 3px 1px rgba(0, 0, 0, 0.15);\n",
              "      filter: drop-shadow(0px 1px 2px rgba(0, 0, 0, 0.3));\n",
              "      fill: #FFFFFF;\n",
              "    }\n",
              "  </style>\n",
              "\n",
              "      <script>\n",
              "        const buttonEl =\n",
              "          document.querySelector('#df-6e3d04b8-ae06-422e-ae37-a8ac73d29420 button.colab-df-convert');\n",
              "        buttonEl.style.display =\n",
              "          google.colab.kernel.accessAllowed ? 'block' : 'none';\n",
              "\n",
              "        async function convertToInteractive(key) {\n",
              "          const element = document.querySelector('#df-6e3d04b8-ae06-422e-ae37-a8ac73d29420');\n",
              "          const dataTable =\n",
              "            await google.colab.kernel.invokeFunction('convertToInteractive',\n",
              "                                                     [key], {});\n",
              "          if (!dataTable) return;\n",
              "\n",
              "          const docLinkHtml = 'Like what you see? Visit the ' +\n",
              "            '<a target=\"_blank\" href=https://colab.research.google.com/notebooks/data_table.ipynb>data table notebook</a>'\n",
              "            + ' to learn more about interactive tables.';\n",
              "          element.innerHTML = '';\n",
              "          dataTable['output_type'] = 'display_data';\n",
              "          await google.colab.output.renderOutput(dataTable, element);\n",
              "          const docLink = document.createElement('div');\n",
              "          docLink.innerHTML = docLinkHtml;\n",
              "          element.appendChild(docLink);\n",
              "        }\n",
              "      </script>\n",
              "    </div>\n",
              "  </div>\n",
              "  "
            ]
          },
          "metadata": {},
          "execution_count": 13
        }
      ],
      "source": [
        "# Create a dictionary with the evaluation metrics for each model\n",
        "metrics = {\n",
        "    'Linear Regression': [lr_mae, lr_mse, lr_rmse],\n",
        "    'Random Forest': [rf_mae, rf_mse, rf_rmse],\n",
        "    'XGBoost': [xgb_mae, xgb_mse, xgb_rmse],\n",
        "    'Ridge': [ridge_mae, ridge_mse, ridge_rmse],\n",
        "    'Lasso': [lasso_mae, lasso_mse, lasso_rmse],\n",
        "    'SVR': [svr_mae, svr_mse, svr_rmse],\n",
        "    'SGD': [sgd_mae, sgd_mse, sgd_rmse]\n",
        "}\n",
        "\n",
        "# Create a pandas dataframe from the dictionary\n",
        "df_metrics = pd.DataFrame.from_dict(metrics, orient='index', columns=['MAE', 'MSE', 'RMSE'])\n",
        "\n",
        "# Print the dataframe\n",
        "df_metrics"
      ]
    },
    {
      "cell_type": "markdown",
      "metadata": {
        "id": "HFcKMjJ1yZhs"
      },
      "source": [
        "Based on the output, the **Random Forest** model has the lowest MAE, MSE, and RMSE values, indicating that it has the best performance among the models listed. The SVR model also has relatively low values for all three metrics, indicating good performance as well. "
      ]
    },
    {
      "cell_type": "markdown",
      "metadata": {
        "id": "uuKurBIk-Yjy"
      },
      "source": [
        "## Hyperparameter Tuning using GridSearchCV"
      ]
    },
    {
      "cell_type": "code",
      "source": [
        "# define the random forest model\n",
        "rf = RandomForestRegressor()\n",
        "\n",
        "# define the hyperparameters and their possible values\n",
        "param_grid = {'n_estimators': [50, 100, 200, 500],\n",
        "              'max_features': ['sqrt', 'log2'],\n",
        "              'max_depth': [None, 5, 10, 20, 30],\n",
        "              'min_samples_split': [2, 5, 10],\n",
        "              'min_samples_leaf': [1, 2, 4]}"
      ],
      "metadata": {
        "id": "9RwRvFETug69"
      },
      "execution_count": 14,
      "outputs": []
    },
    {
      "cell_type": "code",
      "source": [
        "# define the grid search cross-validation object\n",
        "rf_grid_search = GridSearchCV(rf, param_grid, cv=5, n_jobs=-1)\n",
        "\n",
        "# fit the grid search object to the data\n",
        "rf_grid_search.fit(X_train, y_train)\n",
        "\n",
        "# print the best hyperparameters\n",
        "print(\"Best hyperparameters: \", rf_grid_search.best_params_)"
      ],
      "metadata": {
        "colab": {
          "base_uri": "https://localhost:8080/"
        },
        "id": "3o_4jnEPugvf",
        "outputId": "9daf9688-4d3e-4503-ad99-bef6886c02cf"
      },
      "execution_count": 15,
      "outputs": [
        {
          "output_type": "stream",
          "name": "stdout",
          "text": [
            "Best hyperparameters:  {'max_depth': 10, 'max_features': 'sqrt', 'min_samples_leaf': 4, 'min_samples_split': 5, 'n_estimators': 50}\n"
          ]
        }
      ]
    },
    {
      "cell_type": "code",
      "source": [
        "# use the best hyperparameters to train the model\n",
        "rf_best = RandomForestRegressor(**rf_grid_search.best_params_)\n",
        "rf_best.fit(X_train, y_train)"
      ],
      "metadata": {
        "colab": {
          "base_uri": "https://localhost:8080/",
          "height": 92
        },
        "id": "bej9aMCku2Cq",
        "outputId": "a5943d19-410d-40cc-d40d-bb1ebe2c395d"
      },
      "execution_count": 16,
      "outputs": [
        {
          "output_type": "execute_result",
          "data": {
            "text/plain": [
              "RandomForestRegressor(max_depth=10, max_features='sqrt', min_samples_leaf=4,\n",
              "                      min_samples_split=5, n_estimators=50)"
            ],
            "text/html": [
              "<style>#sk-container-id-1 {color: black;background-color: white;}#sk-container-id-1 pre{padding: 0;}#sk-container-id-1 div.sk-toggleable {background-color: white;}#sk-container-id-1 label.sk-toggleable__label {cursor: pointer;display: block;width: 100%;margin-bottom: 0;padding: 0.3em;box-sizing: border-box;text-align: center;}#sk-container-id-1 label.sk-toggleable__label-arrow:before {content: \"▸\";float: left;margin-right: 0.25em;color: #696969;}#sk-container-id-1 label.sk-toggleable__label-arrow:hover:before {color: black;}#sk-container-id-1 div.sk-estimator:hover label.sk-toggleable__label-arrow:before {color: black;}#sk-container-id-1 div.sk-toggleable__content {max-height: 0;max-width: 0;overflow: hidden;text-align: left;background-color: #f0f8ff;}#sk-container-id-1 div.sk-toggleable__content pre {margin: 0.2em;color: black;border-radius: 0.25em;background-color: #f0f8ff;}#sk-container-id-1 input.sk-toggleable__control:checked~div.sk-toggleable__content {max-height: 200px;max-width: 100%;overflow: auto;}#sk-container-id-1 input.sk-toggleable__control:checked~label.sk-toggleable__label-arrow:before {content: \"▾\";}#sk-container-id-1 div.sk-estimator input.sk-toggleable__control:checked~label.sk-toggleable__label {background-color: #d4ebff;}#sk-container-id-1 div.sk-label input.sk-toggleable__control:checked~label.sk-toggleable__label {background-color: #d4ebff;}#sk-container-id-1 input.sk-hidden--visually {border: 0;clip: rect(1px 1px 1px 1px);clip: rect(1px, 1px, 1px, 1px);height: 1px;margin: -1px;overflow: hidden;padding: 0;position: absolute;width: 1px;}#sk-container-id-1 div.sk-estimator {font-family: monospace;background-color: #f0f8ff;border: 1px dotted black;border-radius: 0.25em;box-sizing: border-box;margin-bottom: 0.5em;}#sk-container-id-1 div.sk-estimator:hover {background-color: #d4ebff;}#sk-container-id-1 div.sk-parallel-item::after {content: \"\";width: 100%;border-bottom: 1px solid gray;flex-grow: 1;}#sk-container-id-1 div.sk-label:hover label.sk-toggleable__label {background-color: #d4ebff;}#sk-container-id-1 div.sk-serial::before {content: \"\";position: absolute;border-left: 1px solid gray;box-sizing: border-box;top: 0;bottom: 0;left: 50%;z-index: 0;}#sk-container-id-1 div.sk-serial {display: flex;flex-direction: column;align-items: center;background-color: white;padding-right: 0.2em;padding-left: 0.2em;position: relative;}#sk-container-id-1 div.sk-item {position: relative;z-index: 1;}#sk-container-id-1 div.sk-parallel {display: flex;align-items: stretch;justify-content: center;background-color: white;position: relative;}#sk-container-id-1 div.sk-item::before, #sk-container-id-1 div.sk-parallel-item::before {content: \"\";position: absolute;border-left: 1px solid gray;box-sizing: border-box;top: 0;bottom: 0;left: 50%;z-index: -1;}#sk-container-id-1 div.sk-parallel-item {display: flex;flex-direction: column;z-index: 1;position: relative;background-color: white;}#sk-container-id-1 div.sk-parallel-item:first-child::after {align-self: flex-end;width: 50%;}#sk-container-id-1 div.sk-parallel-item:last-child::after {align-self: flex-start;width: 50%;}#sk-container-id-1 div.sk-parallel-item:only-child::after {width: 0;}#sk-container-id-1 div.sk-dashed-wrapped {border: 1px dashed gray;margin: 0 0.4em 0.5em 0.4em;box-sizing: border-box;padding-bottom: 0.4em;background-color: white;}#sk-container-id-1 div.sk-label label {font-family: monospace;font-weight: bold;display: inline-block;line-height: 1.2em;}#sk-container-id-1 div.sk-label-container {text-align: center;}#sk-container-id-1 div.sk-container {/* jupyter's `normalize.less` sets `[hidden] { display: none; }` but bootstrap.min.css set `[hidden] { display: none !important; }` so we also need the `!important` here to be able to override the default hidden behavior on the sphinx rendered scikit-learn.org. See: https://github.com/scikit-learn/scikit-learn/issues/21755 */display: inline-block !important;position: relative;}#sk-container-id-1 div.sk-text-repr-fallback {display: none;}</style><div id=\"sk-container-id-1\" class=\"sk-top-container\"><div class=\"sk-text-repr-fallback\"><pre>RandomForestRegressor(max_depth=10, max_features=&#x27;sqrt&#x27;, min_samples_leaf=4,\n",
              "                      min_samples_split=5, n_estimators=50)</pre><b>In a Jupyter environment, please rerun this cell to show the HTML representation or trust the notebook. <br />On GitHub, the HTML representation is unable to render, please try loading this page with nbviewer.org.</b></div><div class=\"sk-container\" hidden><div class=\"sk-item\"><div class=\"sk-estimator sk-toggleable\"><input class=\"sk-toggleable__control sk-hidden--visually\" id=\"sk-estimator-id-1\" type=\"checkbox\" checked><label for=\"sk-estimator-id-1\" class=\"sk-toggleable__label sk-toggleable__label-arrow\">RandomForestRegressor</label><div class=\"sk-toggleable__content\"><pre>RandomForestRegressor(max_depth=10, max_features=&#x27;sqrt&#x27;, min_samples_leaf=4,\n",
              "                      min_samples_split=5, n_estimators=50)</pre></div></div></div></div></div>"
            ]
          },
          "metadata": {},
          "execution_count": 16
        }
      ]
    },
    {
      "cell_type": "code",
      "source": [
        "# define the SVR model\n",
        "svr = SVR()\n",
        "\n",
        "# define the hyperparameters and their possible values\n",
        "param_grid = {'C': [0.1, 1, 10, 100],\n",
        "              'kernel': ['linear', 'rbf', 'poly', 'sigmoid'],\n",
        "              'gamma': ['scale', 'auto']}"
      ],
      "metadata": {
        "id": "IJ-GjXV1vAWR"
      },
      "execution_count": 17,
      "outputs": []
    },
    {
      "cell_type": "code",
      "source": [
        "# define the grid search cross-validation object\n",
        "svr_grid_search = GridSearchCV(svr, param_grid, cv=5, n_jobs=-1)\n",
        "\n",
        "# fit the grid search object to the data\n",
        "svr_grid_search.fit(X_train, y_train)\n",
        "\n",
        "# print the best hyperparameters\n",
        "print(\"Best hyperparameters: \", svr_grid_search.best_params_)"
      ],
      "metadata": {
        "colab": {
          "base_uri": "https://localhost:8080/"
        },
        "id": "880SQnjou197",
        "outputId": "85bd9844-d490-4661-e047-18fd9d2a3c70"
      },
      "execution_count": 18,
      "outputs": [
        {
          "output_type": "stream",
          "name": "stdout",
          "text": [
            "Best hyperparameters:  {'C': 10, 'gamma': 'auto', 'kernel': 'rbf'}\n"
          ]
        }
      ]
    },
    {
      "cell_type": "code",
      "source": [
        "# use the best hyperparameters to train the model\n",
        "svr_best = SVR(**svr_grid_search.best_params_)\n",
        "svr_best.fit(X_train, y_train)"
      ],
      "metadata": {
        "colab": {
          "base_uri": "https://localhost:8080/",
          "height": 75
        },
        "id": "ZOrepN5ou16E",
        "outputId": "fa486acc-99e0-4dce-fcd1-a92918c7b661"
      },
      "execution_count": 19,
      "outputs": [
        {
          "output_type": "execute_result",
          "data": {
            "text/plain": [
              "SVR(C=10, gamma='auto')"
            ],
            "text/html": [
              "<style>#sk-container-id-2 {color: black;background-color: white;}#sk-container-id-2 pre{padding: 0;}#sk-container-id-2 div.sk-toggleable {background-color: white;}#sk-container-id-2 label.sk-toggleable__label {cursor: pointer;display: block;width: 100%;margin-bottom: 0;padding: 0.3em;box-sizing: border-box;text-align: center;}#sk-container-id-2 label.sk-toggleable__label-arrow:before {content: \"▸\";float: left;margin-right: 0.25em;color: #696969;}#sk-container-id-2 label.sk-toggleable__label-arrow:hover:before {color: black;}#sk-container-id-2 div.sk-estimator:hover label.sk-toggleable__label-arrow:before {color: black;}#sk-container-id-2 div.sk-toggleable__content {max-height: 0;max-width: 0;overflow: hidden;text-align: left;background-color: #f0f8ff;}#sk-container-id-2 div.sk-toggleable__content pre {margin: 0.2em;color: black;border-radius: 0.25em;background-color: #f0f8ff;}#sk-container-id-2 input.sk-toggleable__control:checked~div.sk-toggleable__content {max-height: 200px;max-width: 100%;overflow: auto;}#sk-container-id-2 input.sk-toggleable__control:checked~label.sk-toggleable__label-arrow:before {content: \"▾\";}#sk-container-id-2 div.sk-estimator input.sk-toggleable__control:checked~label.sk-toggleable__label {background-color: #d4ebff;}#sk-container-id-2 div.sk-label input.sk-toggleable__control:checked~label.sk-toggleable__label {background-color: #d4ebff;}#sk-container-id-2 input.sk-hidden--visually {border: 0;clip: rect(1px 1px 1px 1px);clip: rect(1px, 1px, 1px, 1px);height: 1px;margin: -1px;overflow: hidden;padding: 0;position: absolute;width: 1px;}#sk-container-id-2 div.sk-estimator {font-family: monospace;background-color: #f0f8ff;border: 1px dotted black;border-radius: 0.25em;box-sizing: border-box;margin-bottom: 0.5em;}#sk-container-id-2 div.sk-estimator:hover {background-color: #d4ebff;}#sk-container-id-2 div.sk-parallel-item::after {content: \"\";width: 100%;border-bottom: 1px solid gray;flex-grow: 1;}#sk-container-id-2 div.sk-label:hover label.sk-toggleable__label {background-color: #d4ebff;}#sk-container-id-2 div.sk-serial::before {content: \"\";position: absolute;border-left: 1px solid gray;box-sizing: border-box;top: 0;bottom: 0;left: 50%;z-index: 0;}#sk-container-id-2 div.sk-serial {display: flex;flex-direction: column;align-items: center;background-color: white;padding-right: 0.2em;padding-left: 0.2em;position: relative;}#sk-container-id-2 div.sk-item {position: relative;z-index: 1;}#sk-container-id-2 div.sk-parallel {display: flex;align-items: stretch;justify-content: center;background-color: white;position: relative;}#sk-container-id-2 div.sk-item::before, #sk-container-id-2 div.sk-parallel-item::before {content: \"\";position: absolute;border-left: 1px solid gray;box-sizing: border-box;top: 0;bottom: 0;left: 50%;z-index: -1;}#sk-container-id-2 div.sk-parallel-item {display: flex;flex-direction: column;z-index: 1;position: relative;background-color: white;}#sk-container-id-2 div.sk-parallel-item:first-child::after {align-self: flex-end;width: 50%;}#sk-container-id-2 div.sk-parallel-item:last-child::after {align-self: flex-start;width: 50%;}#sk-container-id-2 div.sk-parallel-item:only-child::after {width: 0;}#sk-container-id-2 div.sk-dashed-wrapped {border: 1px dashed gray;margin: 0 0.4em 0.5em 0.4em;box-sizing: border-box;padding-bottom: 0.4em;background-color: white;}#sk-container-id-2 div.sk-label label {font-family: monospace;font-weight: bold;display: inline-block;line-height: 1.2em;}#sk-container-id-2 div.sk-label-container {text-align: center;}#sk-container-id-2 div.sk-container {/* jupyter's `normalize.less` sets `[hidden] { display: none; }` but bootstrap.min.css set `[hidden] { display: none !important; }` so we also need the `!important` here to be able to override the default hidden behavior on the sphinx rendered scikit-learn.org. See: https://github.com/scikit-learn/scikit-learn/issues/21755 */display: inline-block !important;position: relative;}#sk-container-id-2 div.sk-text-repr-fallback {display: none;}</style><div id=\"sk-container-id-2\" class=\"sk-top-container\"><div class=\"sk-text-repr-fallback\"><pre>SVR(C=10, gamma=&#x27;auto&#x27;)</pre><b>In a Jupyter environment, please rerun this cell to show the HTML representation or trust the notebook. <br />On GitHub, the HTML representation is unable to render, please try loading this page with nbviewer.org.</b></div><div class=\"sk-container\" hidden><div class=\"sk-item\"><div class=\"sk-estimator sk-toggleable\"><input class=\"sk-toggleable__control sk-hidden--visually\" id=\"sk-estimator-id-2\" type=\"checkbox\" checked><label for=\"sk-estimator-id-2\" class=\"sk-toggleable__label sk-toggleable__label-arrow\">SVR</label><div class=\"sk-toggleable__content\"><pre>SVR(C=10, gamma=&#x27;auto&#x27;)</pre></div></div></div></div></div>"
            ]
          },
          "metadata": {},
          "execution_count": 19
        }
      ]
    },
    {
      "cell_type": "code",
      "source": [
        "# Print the best hyperparameters and score for each model\n",
        "print('Random Forest:')\n",
        "print('Best Score:', rf_grid_search.best_score_)\n",
        "print('==='* 10)\n",
        "\n",
        "print('SVR:')\n",
        "print('Best Score:', svr_grid_search.best_score_)\n",
        "print('==='* 10)"
      ],
      "metadata": {
        "colab": {
          "base_uri": "https://localhost:8080/"
        },
        "id": "BjHtCjFKu1vg",
        "outputId": "0eedfe89-146e-4114-9271-6068385fc01a"
      },
      "execution_count": 20,
      "outputs": [
        {
          "output_type": "stream",
          "name": "stdout",
          "text": [
            "Random Forest:\n",
            "Best Score: -0.025180671245138876\n",
            "==============================\n",
            "SVR:\n",
            "Best Score: -0.11755055020046243\n",
            "==============================\n"
          ]
        }
      ]
    },
    {
      "cell_type": "markdown",
      "source": [
        "The Random Forest model  best score was -0.025180671245138876. This means that the mean squared error of the Random Forest model on the validation data was around 0.025, which is quite low and indicates that the model has good predictive performance."
      ],
      "metadata": {
        "id": "C-kmhlDR3UXR"
      }
    },
    {
      "cell_type": "markdown",
      "source": [
        "### Random Forest model prediction on the test set"
      ],
      "metadata": {
        "id": "CKA7Z3cE7088"
      }
    },
    {
      "cell_type": "code",
      "source": [
        "# Get the predictions of the Random Forest model on the test set\n",
        "rf_preds = rf_grid_search.predict(X_test)\n",
        "\n",
        "# Plot the actual vs. predicted values using a scatter plot\n",
        "sns.scatterplot(x=y_test, y=rf_preds)\n",
        "plt.xlabel('Actual')\n",
        "plt.ylabel('Predicted')\n",
        "plt.title('Random Forest Predictions vs. Actual');"
      ],
      "metadata": {
        "colab": {
          "base_uri": "https://localhost:8080/",
          "height": 472
        },
        "id": "_lRrgnil4ySq",
        "outputId": "17391203-eb38-4945-92a6-330e1cbc9e11"
      },
      "execution_count": 29,
      "outputs": [
        {
          "output_type": "display_data",
          "data": {
            "text/plain": [
              "<Figure size 640x480 with 1 Axes>"
            ],
            "image/png": "[encoded data removed]"
          },
          "metadata": {}
        }
      ]
    },
    {
      "cell_type": "code",
      "source": [
        "# Compute the residuals\n",
        "rf_resids = y_test - rf_preds\n",
        "\n",
        "# Plot the distribution of residuals using a histogram\n",
        "sns.histplot(rf_resids, kde=True)\n",
        "plt.xlabel('Residuals')\n",
        "plt.title('Random Forest residual distribution')"
      ],
      "metadata": {
        "colab": {
          "base_uri": "https://localhost:8080/",
          "height": 489
        },
        "id": "N7zF5Dah5AW4",
        "outputId": "1c5d63c4-4c88-4223-f793-a2b8bdce0756"
      },
      "execution_count": 22,
      "outputs": [
        {
          "output_type": "execute_result",
          "data": {
            "text/plain": [
              "Text(0.5, 1.0, 'Random Forest residual distribution')"
            ]
          },
          "metadata": {},
          "execution_count": 22
        },
        {
          "output_type": "display_data",
          "data": {
            "text/plain": [
              "<Figure size 640x480 with 1 Axes>"
            ],
            "image/png": "[encoded data removed]"
          },
          "metadata": {}
        }
      ]
    },
    {
      "cell_type": "markdown",
      "source": [
        "### SVR model"
      ],
      "metadata": {
        "id": "go5ifiWs5Ycn"
      }
    },
    {
      "cell_type": "code",
      "source": [
        "# Predictions of SVR model on the tests set\n",
        "svr_preds = svr_grid_search.predict(X_test)\n",
        "sns.scatterplot(x=y_test, y=svr_preds)\n",
        "plt.xlabel('Actual')\n",
        "plt.ylabel('Predicted')\n",
        "plt.title('SVR predictions vs. actual')"
      ],
      "metadata": {
        "colab": {
          "base_uri": "https://localhost:8080/",
          "height": 489
        },
        "id": "1_CAOn4x5bBA",
        "outputId": "a00c9efc-5895-4d25-9494-2c706e2522a6"
      },
      "execution_count": 24,
      "outputs": [
        {
          "output_type": "execute_result",
          "data": {
            "text/plain": [
              "Text(0.5, 1.0, 'SVR predictions vs. actual')"
            ]
          },
          "metadata": {},
          "execution_count": 24
        },
        {
          "output_type": "display_data",
          "data": {
            "text/plain": [
              "<Figure size 640x480 with 1 Axes>"
            ],
            "image/png": "[encoded data removed]"
          },
          "metadata": {}
        }
      ]
    },
    {
      "cell_type": "code",
      "source": [
        "# Compute the residuals for SVR model\n",
        "svr_resids = y_test - svr_preds\n",
        "# Plot the histogram of SVR residual distribution\n",
        "sns.histplot(svr_resids, kde=True)\n",
        "plt.xlabel('Residuals')\n",
        "plt.title('SVR residual distribution')\n",
        "\n",
        "plt.show()"
      ],
      "metadata": {
        "colab": {
          "base_uri": "https://localhost:8080/",
          "height": 472
        },
        "id": "jta1AJ61ugdt",
        "outputId": "76ecb707-4e63-4640-cab1-03b4aeff5ab6"
      },
      "execution_count": 25,
      "outputs": [
        {
          "output_type": "display_data",
          "data": {
            "text/plain": [
              "<Figure size 640x480 with 1 Axes>"
            ],
            "image/png": "[encoded data removed]"
          },
          "metadata": {}
        }
      ]
    }
  ],
  "metadata": {
    "colab": {
      "provenance": []
    },
    "gpuClass": "standard",
    "kernelspec": {
      "display_name": "Python 3",
      "name": "python3"
    },
    "language_info": {
      "name": "python"
    }
  },
  "nbformat": 4,
  "nbformat_minor": 0
}